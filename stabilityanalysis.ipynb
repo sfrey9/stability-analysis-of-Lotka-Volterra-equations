{
 "cells": [
  {
   "cell_type": "code",
   "execution_count": 98,
   "metadata": {},
   "outputs": [
    {
     "name": "stderr",
     "output_type": "stream",
     "text": [
      "/Users/Shardul/anaconda/lib/python3.5/site-packages/numpy/core/numeric.py:482: ComplexWarning: Casting complex values to real discards the imaginary part\n",
      "  return array(a, dtype, copy=False, order=order)\n"
     ]
    },
    {
     "data": {
      "image/png": "[encoded data removed]",
      "text/plain": [
       "<matplotlib.figure.Figure at 0x10ec3bdd8>"
      ]
     },
     "metadata": {},
     "output_type": "display_data"
    }
   ],
   "source": [
    "import matplotlib.pyplot as plt\n",
    "import numpy as np\n",
    "\n",
    "def a11(b,x,y) : return (b-y/(x+1)**2-2*x);\n",
    "def a12(x) : return (-x/(x+1));\n",
    "def a21(x,y) : return (y/(x+1)**2);\n",
    "def a22(x,y) : return (x/(x+1)-y);\n",
    "\n",
    "def trace(b,x,y):\n",
    "    return a11(b,x,y)+a22(x,y);\n",
    "    \n",
    "def determinant(b,x,y):\n",
    "    return a11(b,x,y)*a22(x,y)-a12(x)*a21(x,y);\n",
    "\n",
    "def discriminant(b,x,y):\n",
    "    return trace(b,x,y)**2-4*determinant(b,x,y);\n",
    "\n",
    "def xprime(b,x,y):\n",
    "    return float(x*(b-x-y/(1+x)));\n",
    "\n",
    "def yprime(x,y):\n",
    "    return float(y*(x/(x+1)-0.5*y));\n",
    "discriminator=[]\n",
    "tracer=[]\n",
    "posi=[]\n",
    "nega=[]\n",
    "t=[]\n",
    "X=[]\n",
    "Y=[]    \n",
    "for i in range (0,8000):\n",
    "    b=i/100;\n",
    "    coeff = [-0.5,0.5*(b-2),(b-1.5),0.5*b]\n",
    "    a=np.roots(coeff);\n",
    "    t.append(b);\n",
    "    if a[0]>=0:\n",
    "        X.append(a[0]);\n",
    "        Y.append((b-a[0])*(1+a[0]))\n",
    "        tracer.append(trace(b,a[0],(b-a[0])*(1+a[0])));\n",
    "        discriminator.append(discriminant(b,a[0],(b-a[0])*(1+a[0])));\n",
    "        posi.append(((tracer[i]+discriminator[i]**(1/2))))\n",
    "        nega.append(((tracer[i]-discriminator[i]**(1/2))))\n",
    "    else:\n",
    "        X.append(a[2]);\n",
    "        Y.append((b-a[2])*(1+a[2]))\n",
    "        tracer.append(trace(b,a[2],(b-a[2])*(1+a[2])));\n",
    "        discriminator.append(discriminant(b,a[2],(b-a[2])*(1+a[2])));\n",
    "        posi.append((tracer[i]+discriminator[i]**(1/2)))\n",
    "        nega.append((tracer[i]-discriminator[i]**(1/2)))\n",
    "        \n",
    "#plt.figure(figsize=(6,4));\n",
    "#plt.title('Eigenvalues of b>2');\n",
    "#plt.plot(t,posi,t,nega);\n",
    "#axes = plt.gca();\n",
    "#axes.set_xlim([0,80]);\n",
    "#axes.set_ylim([-20,0]);\n",
    "#axes.set_xlabel(\"b\");\n",
    "#axes.set_ylabel(\"eigenvalues\");\n",
    "#plt.show();\n",
    "        \n",
    "\n",
    "\n",
    "#for i in range(1,1000):\n",
    "#    for j in range (1,i):\n",
    "#        for k in range (1,i):\n",
    "#            a = xprime(i/100,j/100,k/100);\n",
    "#            b = yprime(j/100,k/100)\n",
    "#            if (-0.001 <= a <= 0.001) and (-0.001 <= b <= 0.001):\n",
    "#                print(i/100,j/100,k/100);\n",
    "#                print(a11(i/100,j/100,k/100)+a22(j/100,k/100));\n",
    "            \n",
    "\n",
    "        "
   ]
  }
 ],
 "metadata": {
  "anaconda-cloud": {},
  "kernelspec": {
   "display_name": "Python [conda root]",
   "language": "python",
   "name": "conda-root-py"
  },
  "language_info": {
   "codemirror_mode": {
    "name": "ipython",
    "version": 3
   },
   "file_extension": ".py",
   "mimetype": "text/x-python",
   "name": "python",
   "nbconvert_exporter": "python",
   "pygments_lexer": "ipython3",
   "version": "3.5.2"
  }
 },
 "nbformat": 4,
 "nbformat_minor": 1
}
